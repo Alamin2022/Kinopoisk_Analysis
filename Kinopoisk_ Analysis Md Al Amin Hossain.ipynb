{
  "metadata": {
    "kernelspec": {
      "name": "python",
      "display_name": "Python (Pyodide)",
      "language": "python"
    },
    "language_info": {
      "codemirror_mode": {
        "name": "python",
        "version": 3
      },
      "file_extension": ".py",
      "mimetype": "text/x-python",
      "name": "python",
      "nbconvert_exporter": "python",
      "pygments_lexer": "ipython3",
      "version": "3.8"
    }
  },
  "nbformat_minor": 4,
  "nbformat": 4,
  "cells": [
    {
      "cell_type": "code",
      "source": "import pandas as pd\nfrom scipy.stats import mannwhitneyu\nimport numpy as np",
      "metadata": {},
      "execution_count": 36,
      "outputs": []
    },
    {
      "cell_type": "code",
      "source": "t = pd.read_csv('2022-09-21 17-47-27.csv', sep = ';', encoding = 'cp1251')\nt.head()",
      "metadata": {},
      "execution_count": 5,
      "outputs": [
        {
          "execution_count": 5,
          "output_type": "execute_result",
          "data": {
            "text/html": [
              "<div>\n",
              "<style scoped>\n",
              "    .dataframe tbody tr th:only-of-type {\n",
              "        vertical-align: middle;\n",
              "    }\n",
              "\n",
              "    .dataframe tbody tr th {\n",
              "        vertical-align: top;\n",
              "    }\n",
              "\n",
              "    .dataframe thead th {\n",
              "        text-align: right;\n",
              "    }\n",
              "</style>\n",
              "<table border=\"1\" class=\"dataframe\">\n",
              "  <thead>\n",
              "    <tr style=\"text-align: right;\">\n",
              "      <th></th>\n",
              "      <th>num</th>\n",
              "      <th>name_rus</th>\n",
              "      <th>rating_new</th>\n",
              "      <th>origin</th>\n",
              "      <th>genre</th>\n",
              "      <th>rating_old</th>\n",
              "      <th>qty_views</th>\n",
              "    </tr>\n",
              "  </thead>\n",
              "  <tbody>\n",
              "    <tr>\n",
              "      <th>0</th>\n",
              "      <td>1</td>\n",
              "      <td>Зеленая миля</td>\n",
              "      <td>9.1</td>\n",
              "      <td>США</td>\n",
              "      <td>фэнтези/ драма</td>\n",
              "      <td>8.9</td>\n",
              "      <td>692418</td>\n",
              "    </tr>\n",
              "    <tr>\n",
              "      <th>1</th>\n",
              "      <td>2</td>\n",
              "      <td>Побег из Шоушенка</td>\n",
              "      <td>9.1</td>\n",
              "      <td>США</td>\n",
              "      <td>драма</td>\n",
              "      <td>8.9</td>\n",
              "      <td>784326</td>\n",
              "    </tr>\n",
              "    <tr>\n",
              "      <th>2</th>\n",
              "      <td>3</td>\n",
              "      <td>Властелин колец: Возвращение короля</td>\n",
              "      <td>8.6</td>\n",
              "      <td>Новая Зеландия/ США</td>\n",
              "      <td>фэнтези/ приключения</td>\n",
              "      <td>8.8</td>\n",
              "      <td>481829</td>\n",
              "    </tr>\n",
              "    <tr>\n",
              "      <th>3</th>\n",
              "      <td>4</td>\n",
              "      <td>Властелин колец: Две крепости</td>\n",
              "      <td>8.6</td>\n",
              "      <td>Новая Зеландия/ США</td>\n",
              "      <td>фэнтези/ приключения</td>\n",
              "      <td>8.8</td>\n",
              "      <td>467607</td>\n",
              "    </tr>\n",
              "    <tr>\n",
              "      <th>4</th>\n",
              "      <td>5</td>\n",
              "      <td>Властелин колец: Братство Кольца</td>\n",
              "      <td>8.6</td>\n",
              "      <td>Новая Зеландия/ США</td>\n",
              "      <td>фэнтези/ приключения</td>\n",
              "      <td>8.8</td>\n",
              "      <td>516856</td>\n",
              "    </tr>\n",
              "  </tbody>\n",
              "</table>\n",
              "</div>"
            ],
            "text/plain": [
              "   num                             name_rus  rating_new               origin  \\\n",
              "0    1                         Зеленая миля         9.1                  США   \n",
              "1    2                    Побег из Шоушенка         9.1                  США   \n",
              "2    3  Властелин колец: Возвращение короля         8.6  Новая Зеландия/ США   \n",
              "3    4        Властелин колец: Две крепости         8.6  Новая Зеландия/ США   \n",
              "4    5     Властелин колец: Братство Кольца         8.6  Новая Зеландия/ США   \n",
              "\n",
              "                  genre  rating_old  qty_views  \n",
              "0        фэнтези/ драма         8.9     692418  \n",
              "1                 драма         8.9     784326  \n",
              "2  фэнтези/ приключения         8.8     481829  \n",
              "3  фэнтези/ приключения         8.8     467607  \n",
              "4  фэнтези/ приключения         8.8     516856  "
            ]
          },
          "metadata": {}
        }
      ]
    },
    {
      "cell_type": "code",
      "source": "t.describe()",
      "metadata": {},
      "execution_count": 10,
      "outputs": [
        {
          "execution_count": 10,
          "output_type": "execute_result",
          "data": {
            "text/html": [
              "<div>\n",
              "<style scoped>\n",
              "    .dataframe tbody tr th:only-of-type {\n",
              "        vertical-align: middle;\n",
              "    }\n",
              "\n",
              "    .dataframe tbody tr th {\n",
              "        vertical-align: top;\n",
              "    }\n",
              "\n",
              "    .dataframe thead th {\n",
              "        text-align: right;\n",
              "    }\n",
              "</style>\n",
              "<table border=\"1\" class=\"dataframe\">\n",
              "  <thead>\n",
              "    <tr style=\"text-align: right;\">\n",
              "      <th></th>\n",
              "      <th>num</th>\n",
              "      <th>rating_new</th>\n",
              "      <th>rating_old</th>\n",
              "      <th>qty_views</th>\n",
              "    </tr>\n",
              "  </thead>\n",
              "  <tbody>\n",
              "    <tr>\n",
              "      <th>count</th>\n",
              "      <td>250.000000</td>\n",
              "      <td>250.000000</td>\n",
              "      <td>250.000000</td>\n",
              "      <td>2.500000e+02</td>\n",
              "    </tr>\n",
              "    <tr>\n",
              "      <th>mean</th>\n",
              "      <td>125.500000</td>\n",
              "      <td>8.184400</td>\n",
              "      <td>8.179600</td>\n",
              "      <td>2.893783e+05</td>\n",
              "    </tr>\n",
              "    <tr>\n",
              "      <th>std</th>\n",
              "      <td>72.312977</td>\n",
              "      <td>0.272643</td>\n",
              "      <td>0.193114</td>\n",
              "      <td>1.868284e+05</td>\n",
              "    </tr>\n",
              "    <tr>\n",
              "      <th>min</th>\n",
              "      <td>1.000000</td>\n",
              "      <td>7.600000</td>\n",
              "      <td>8.000000</td>\n",
              "      <td>2.005600e+04</td>\n",
              "    </tr>\n",
              "    <tr>\n",
              "      <th>25%</th>\n",
              "      <td>63.250000</td>\n",
              "      <td>8.000000</td>\n",
              "      <td>8.000000</td>\n",
              "      <td>1.450212e+05</td>\n",
              "    </tr>\n",
              "    <tr>\n",
              "      <th>50%</th>\n",
              "      <td>125.500000</td>\n",
              "      <td>8.100000</td>\n",
              "      <td>8.100000</td>\n",
              "      <td>2.516295e+05</td>\n",
              "    </tr>\n",
              "    <tr>\n",
              "      <th>75%</th>\n",
              "      <td>187.750000</td>\n",
              "      <td>8.300000</td>\n",
              "      <td>8.300000</td>\n",
              "      <td>4.053790e+05</td>\n",
              "    </tr>\n",
              "    <tr>\n",
              "      <th>max</th>\n",
              "      <td>250.000000</td>\n",
              "      <td>9.100000</td>\n",
              "      <td>8.900000</td>\n",
              "      <td>1.303016e+06</td>\n",
              "    </tr>\n",
              "  </tbody>\n",
              "</table>\n",
              "</div>"
            ],
            "text/plain": [
              "              num  rating_new  rating_old     qty_views\n",
              "count  250.000000  250.000000  250.000000  2.500000e+02\n",
              "mean   125.500000    8.184400    8.179600  2.893783e+05\n",
              "std     72.312977    0.272643    0.193114  1.868284e+05\n",
              "min      1.000000    7.600000    8.000000  2.005600e+04\n",
              "25%     63.250000    8.000000    8.000000  1.450212e+05\n",
              "50%    125.500000    8.100000    8.100000  2.516295e+05\n",
              "75%    187.750000    8.300000    8.300000  4.053790e+05\n",
              "max    250.000000    9.100000    8.900000  1.303016e+06"
            ]
          },
          "metadata": {}
        }
      ]
    },
    {
      "cell_type": "markdown",
      "source": "According to description data, ratings appear to be nearly constant throughout time, with a similar mean, median, and standard deviation. Let's use the Mann-Whitney U test to compare the total ratings of the new and old ratings.",
      "metadata": {}
    },
    {
      "cell_type": "code",
      "source": "u1, p = mannwhitneyu(x = t.rating_new, y = t.rating_old, alternative = 'two-sided')\nu1, p",
      "metadata": {},
      "execution_count": 8,
      "outputs": [
        {
          "execution_count": 8,
          "output_type": "execute_result",
          "data": {
            "text/plain": [
              "(31175.5, 0.9629567921262221)"
            ]
          },
          "metadata": {}
        }
      ]
    },
    {
      "cell_type": "markdown",
      "source": "So, the p-value is too high, there isn't a statistically significant difference in the ratings overall. Let's analyze the data by genre and nation:",
      "metadata": {}
    },
    {
      "cell_type": "code",
      "source": "t.groupby('origin').count().sort_values(by = 'num', ascending = False).head()",
      "metadata": {
        "scrolled": true
      },
      "execution_count": 15,
      "outputs": [
        {
          "execution_count": 15,
          "output_type": "execute_result",
          "data": {
            "text/html": [
              "<div>\n",
              "<style scoped>\n",
              "    .dataframe tbody tr th:only-of-type {\n",
              "        vertical-align: middle;\n",
              "    }\n",
              "\n",
              "    .dataframe tbody tr th {\n",
              "        vertical-align: top;\n",
              "    }\n",
              "\n",
              "    .dataframe thead th {\n",
              "        text-align: right;\n",
              "    }\n",
              "</style>\n",
              "<table border=\"1\" class=\"dataframe\">\n",
              "  <thead>\n",
              "    <tr style=\"text-align: right;\">\n",
              "      <th></th>\n",
              "      <th>num</th>\n",
              "      <th>name_rus</th>\n",
              "      <th>rating_new</th>\n",
              "      <th>genre</th>\n",
              "      <th>rating_old</th>\n",
              "      <th>qty_views</th>\n",
              "    </tr>\n",
              "    <tr>\n",
              "      <th>origin</th>\n",
              "      <th></th>\n",
              "      <th></th>\n",
              "      <th></th>\n",
              "      <th></th>\n",
              "      <th></th>\n",
              "      <th></th>\n",
              "    </tr>\n",
              "  </thead>\n",
              "  <tbody>\n",
              "    <tr>\n",
              "      <th>США</th>\n",
              "      <td>110</td>\n",
              "      <td>110</td>\n",
              "      <td>110</td>\n",
              "      <td>110</td>\n",
              "      <td>110</td>\n",
              "      <td>110</td>\n",
              "    </tr>\n",
              "    <tr>\n",
              "      <th>СССР</th>\n",
              "      <td>31</td>\n",
              "      <td>31</td>\n",
              "      <td>31</td>\n",
              "      <td>31</td>\n",
              "      <td>31</td>\n",
              "      <td>31</td>\n",
              "    </tr>\n",
              "    <tr>\n",
              "      <th>Великобритания/ США</th>\n",
              "      <td>17</td>\n",
              "      <td>17</td>\n",
              "      <td>17</td>\n",
              "      <td>17</td>\n",
              "      <td>17</td>\n",
              "      <td>17</td>\n",
              "    </tr>\n",
              "    <tr>\n",
              "      <th>США/ Германия</th>\n",
              "      <td>10</td>\n",
              "      <td>10</td>\n",
              "      <td>10</td>\n",
              "      <td>10</td>\n",
              "      <td>10</td>\n",
              "      <td>10</td>\n",
              "    </tr>\n",
              "    <tr>\n",
              "      <th>Япония</th>\n",
              "      <td>9</td>\n",
              "      <td>9</td>\n",
              "      <td>9</td>\n",
              "      <td>9</td>\n",
              "      <td>9</td>\n",
              "      <td>9</td>\n",
              "    </tr>\n",
              "  </tbody>\n",
              "</table>\n",
              "</div>"
            ],
            "text/plain": [
              "                     num  name_rus  rating_new  genre  rating_old  qty_views\n",
              "origin                                                                      \n",
              "США                  110       110         110    110         110        110\n",
              "СССР                  31        31          31     31          31         31\n",
              "Великобритания/ США   17        17          17     17          17         17\n",
              "США/ Германия         10        10          10     10          10         10\n",
              "Япония                 9         9           9      9           9          9"
            ]
          },
          "metadata": {}
        }
      ]
    },
    {
      "cell_type": "markdown",
      "source": "Let's examine the distinctions between the USA and the USSR over time.",
      "metadata": {}
    },
    {
      "cell_type": "code",
      "source": "u1, p = mannwhitneyu(x = t.loc[t.origin == 'США', 'rating_new'], y = t.loc[t.origin == 'США', 'rating_old']\n                     , alternative = 'two-sided')\nu1, p",
      "metadata": {},
      "execution_count": 16,
      "outputs": [
        {
          "execution_count": 16,
          "output_type": "execute_result",
          "data": {
            "text/plain": [
              "(5634.0, 0.3718029670954922)"
            ]
          },
          "metadata": {}
        }
      ]
    },
    {
      "cell_type": "code",
      "source": "u1, p = mannwhitneyu(x = t.loc[t.origin == 'СССР', 'rating_new'], y = t.loc[t.origin == 'СССР', 'rating_old']\n                     , alternative = 'two-sided')\nu1, p",
      "metadata": {},
      "execution_count": 17,
      "outputs": [
        {
          "execution_count": 17,
          "output_type": "execute_result",
          "data": {
            "text/plain": [
              "(669.0, 0.007358118927667391)"
            ]
          },
          "metadata": {}
        }
      ]
    },
    {
      "cell_type": "code",
      "source": "t.loc[t.origin == 'СССР', 'rating_new'].shape",
      "metadata": {},
      "execution_count": 19,
      "outputs": [
        {
          "execution_count": 19,
          "output_type": "execute_result",
          "data": {
            "text/plain": [
              "(31,)"
            ]
          },
          "metadata": {}
        }
      ]
    },
    {
      "cell_type": "markdown",
      "source": "There is no statistically significant difference over time for the USA, but there is for the USSR. The Mann-Whitney U test should still be able to identify it despite the tiny sample size. Let's examine genres.",
      "metadata": {}
    },
    {
      "cell_type": "code",
      "source": "t.groupby('genre').count().sort_values(by = 'num', ascending = False).head()",
      "metadata": {},
      "execution_count": 21,
      "outputs": [
        {
          "execution_count": 21,
          "output_type": "execute_result",
          "data": {
            "text/html": [
              "<div>\n",
              "<style scoped>\n",
              "    .dataframe tbody tr th:only-of-type {\n",
              "        vertical-align: middle;\n",
              "    }\n",
              "\n",
              "    .dataframe tbody tr th {\n",
              "        vertical-align: top;\n",
              "    }\n",
              "\n",
              "    .dataframe thead th {\n",
              "        text-align: right;\n",
              "    }\n",
              "</style>\n",
              "<table border=\"1\" class=\"dataframe\">\n",
              "  <thead>\n",
              "    <tr style=\"text-align: right;\">\n",
              "      <th></th>\n",
              "      <th>num</th>\n",
              "      <th>name_rus</th>\n",
              "      <th>rating_new</th>\n",
              "      <th>origin</th>\n",
              "      <th>rating_old</th>\n",
              "      <th>qty_views</th>\n",
              "    </tr>\n",
              "    <tr>\n",
              "      <th>genre</th>\n",
              "      <th></th>\n",
              "      <th></th>\n",
              "      <th></th>\n",
              "      <th></th>\n",
              "      <th></th>\n",
              "      <th></th>\n",
              "    </tr>\n",
              "  </thead>\n",
              "  <tbody>\n",
              "    <tr>\n",
              "      <th>фантастика/ боевик</th>\n",
              "      <td>19</td>\n",
              "      <td>19</td>\n",
              "      <td>19</td>\n",
              "      <td>19</td>\n",
              "      <td>19</td>\n",
              "      <td>19</td>\n",
              "    </tr>\n",
              "    <tr>\n",
              "      <th>мультфильм/ фэнтези</th>\n",
              "      <td>13</td>\n",
              "      <td>13</td>\n",
              "      <td>13</td>\n",
              "      <td>13</td>\n",
              "      <td>13</td>\n",
              "      <td>13</td>\n",
              "    </tr>\n",
              "    <tr>\n",
              "      <th>драма/ мелодрама</th>\n",
              "      <td>13</td>\n",
              "      <td>13</td>\n",
              "      <td>13</td>\n",
              "      <td>13</td>\n",
              "      <td>13</td>\n",
              "      <td>13</td>\n",
              "    </tr>\n",
              "    <tr>\n",
              "      <th>драма</th>\n",
              "      <td>12</td>\n",
              "      <td>12</td>\n",
              "      <td>12</td>\n",
              "      <td>12</td>\n",
              "      <td>12</td>\n",
              "      <td>12</td>\n",
              "    </tr>\n",
              "    <tr>\n",
              "      <th>триллер/ драма</th>\n",
              "      <td>11</td>\n",
              "      <td>11</td>\n",
              "      <td>11</td>\n",
              "      <td>11</td>\n",
              "      <td>11</td>\n",
              "      <td>11</td>\n",
              "    </tr>\n",
              "  </tbody>\n",
              "</table>\n",
              "</div>"
            ],
            "text/plain": [
              "                     num  name_rus  rating_new  origin  rating_old  qty_views\n",
              "genre                                                                        \n",
              "фантастика/ боевик    19        19          19      19          19         19\n",
              "мультфильм/ фэнтези   13        13          13      13          13         13\n",
              "драма/ мелодрама      13        13          13      13          13         13\n",
              "драма                 12        12          12      12          12         12\n",
              "триллер/ драма        11        11          11      11          11         11"
            ]
          },
          "metadata": {}
        }
      ]
    },
    {
      "cell_type": "code",
      "source": "u1, p = mannwhitneyu(x = t.loc[t.genre == 'фантастика/ боевик', 'rating_new'], y = t.loc[t.genre == 'фантастика/ боевик', 'rating_old']\n                     , alternative = 'two-sided')\nu1, p",
      "metadata": {},
      "execution_count": 22,
      "outputs": [
        {
          "execution_count": 22,
          "output_type": "execute_result",
          "data": {
            "text/plain": [
              "(121.5, 0.0787049093768963)"
            ]
          },
          "metadata": {}
        }
      ]
    },
    {
      "cell_type": "markdown",
      "source": "There isn't any statistical difference between action movie ratings over time, or at least there is very little likelihood that there is. Let's use bootstrap to verify the same thing.",
      "metadata": {}
    },
    {
      "cell_type": "code",
      "source": "from bstrap import bootstrap",
      "metadata": {},
      "execution_count": 34,
      "outputs": []
    },
    {
      "cell_type": "code",
      "source": "old_stats, new_stats, p_value = bootstrap(np.mean, t.rating_old, t.rating_new, nbr_runs=1000)\nold_stats, new_stats, p_value",
      "metadata": {},
      "execution_count": 38,
      "outputs": [
        {
          "execution_count": 38,
          "output_type": "execute_result",
          "data": {
            "text/plain": [
              "({'avg_metric': 8.179429999999991,\n",
              "  'metric_ci_lb': 8.160399999999992,\n",
              "  'metric_ci_ub': 8.19881999999999},\n",
              " {'avg_metric': 8.184998399999996,\n",
              "  'metric_ci_lb': 8.156799999999995,\n",
              "  'metric_ci_ub': 8.215199999999998},\n",
              " 0.806)"
            ]
          },
          "metadata": {}
        }
      ]
    },
    {
      "cell_type": "markdown",
      "source": "We can see that the statistical differences between the evaluations are still insignificant. Let's examine the nations and the genres:",
      "metadata": {}
    },
    {
      "cell_type": "code",
      "source": "old_stats, new_stats, p_value = bootstrap(np.mean, t.loc[t.origin == 'США', 'rating_old'], t.loc[t.origin == 'США', 'rating_new'], nbr_runs=1000)\nold_stats, new_stats, p_value",
      "metadata": {},
      "execution_count": 39,
      "outputs": [
        {
          "execution_count": 39,
          "output_type": "execute_result",
          "data": {
            "text/plain": [
              "({'avg_metric': 8.177637272727278,\n",
              "  'metric_ci_lb': 8.149090909090916,\n",
              "  'metric_ci_ub': 8.206363636363644},\n",
              " {'avg_metric': 8.15514181818182,\n",
              "  'metric_ci_lb': 8.111772727272728,\n",
              "  'metric_ci_ub': 8.20181818181818},\n",
              " 0.519)"
            ]
          },
          "metadata": {}
        }
      ]
    },
    {
      "cell_type": "code",
      "source": "old_stats, new_stats, p_value = bootstrap(np.mean, t.loc[t.origin == 'СССР', 'rating_old'], t.loc[t.origin == 'СССР', 'rating_new'], nbr_runs=1000)\nold_stats, new_stats, p_value",
      "metadata": {},
      "execution_count": 40,
      "outputs": [
        {
          "execution_count": 40,
          "output_type": "execute_result",
          "data": {
            "text/plain": [
              "({'avg_metric': 8.237703225806452,\n",
              "  'metric_ci_lb': 8.183870967741935,\n",
              "  'metric_ci_ub': 8.290483870967744},\n",
              " {'avg_metric': 8.378712903225807,\n",
              "  'metric_ci_lb': 8.325806451612904,\n",
              "  'metric_ci_ub': 8.43225806451613},\n",
              " 0.003)"
            ]
          },
          "metadata": {}
        }
      ]
    },
    {
      "cell_type": "code",
      "source": "old_stats, new_stats, p_value = bootstrap(np.mean, t.loc[t.genre == 'фантастика/ боевик', 'rating_old'], \n                                          t.loc[t.genre == 'фантастика/ боевик', 'rating_new'], nbr_runs=1000)\nold_stats, new_stats, p_value",
      "metadata": {},
      "execution_count": 41,
      "outputs": [
        {
          "execution_count": 41,
          "output_type": "execute_result",
          "data": {
            "text/plain": [
              "({'avg_metric': 8.16688947368421,\n",
              "  'metric_ci_lb': 8.110526315789471,\n",
              "  'metric_ci_ub': 8.231578947368419},\n",
              " {'avg_metric': 8.06256842105263,\n",
              "  'metric_ci_lb': 7.957894736842104,\n",
              "  'metric_ci_ub': 8.173684210526313},\n",
              " 0.142)"
            ]
          },
          "metadata": {}
        }
      ]
    },
    {
      "cell_type": "markdown",
      "source": "As we can see, the results are consistent with what we saw with Mann-Whitney U tests: only USSR ratings are different over time, USA and action movies are not statistically significantly different.\n",
      "metadata": {}
    }
  ]
}